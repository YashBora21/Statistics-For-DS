{
 "cells": [
  {
   "cell_type": "code",
   "execution_count": 1,
   "id": "97bf807f",
   "metadata": {},
   "outputs": [],
   "source": [
    "import numpy as np\n",
    "from scipy import stats"
   ]
  },
  {
   "cell_type": "code",
   "execution_count": 5,
   "id": "4eb63781",
   "metadata": {},
   "outputs": [],
   "source": [
    "sample=np.array([52, 55, 48, 50, 49, 53, 51, 54, 50, 52])\n",
    "sample_mean=np.mean(sample)\n",
    "sample_std=np.std(sample,ddof=1)\n",
    "n=len(sample)\n",
    "pop_mean=52\n",
    "\n"
   ]
  },
  {
   "cell_type": "code",
   "execution_count": 6,
   "id": "c990a446",
   "metadata": {},
   "outputs": [
    {
     "data": {
      "text/plain": [
       "np.float64(-0.8542421961772512)"
      ]
     },
     "execution_count": 6,
     "metadata": {},
     "output_type": "execute_result"
    }
   ],
   "source": [
    "t_value=(sample_mean-pop_mean)/(sample_std/np.sqrt(n))\n",
    "t_value"
   ]
  },
  {
   "cell_type": "code",
   "execution_count": 7,
   "id": "6d88f1e3",
   "metadata": {},
   "outputs": [
    {
     "name": "stdout",
     "output_type": "stream",
     "text": [
      "accepted\n"
     ]
    }
   ],
   "source": [
    "p_value=2*(1-stats.t.cdf(abs(t_value),n-1))\n",
    "alpha=0.05\n",
    "if p_value>alpha:\n",
    "    print(\"accepted\")\n",
    "else:\n",
    "    print(\"rejected\")"
   ]
  }
 ],
 "metadata": {
  "kernelspec": {
   "display_name": "Python 3",
   "language": "python",
   "name": "python3"
  },
  "language_info": {
   "codemirror_mode": {
    "name": "ipython",
    "version": 3
   },
   "file_extension": ".py",
   "mimetype": "text/x-python",
   "name": "python",
   "nbconvert_exporter": "python",
   "pygments_lexer": "ipython3",
   "version": "3.13.3"
  }
 },
 "nbformat": 4,
 "nbformat_minor": 5
}
