{
 "cells": [
  {
   "cell_type": "code",
   "execution_count": 2,
   "id": "20d0cc42",
   "metadata": {},
   "outputs": [],
   "source": [
    "import numpy as np\n",
    "from scipy import stats"
   ]
  },
  {
   "cell_type": "code",
   "execution_count": 3,
   "id": "39ba7f9e",
   "metadata": {},
   "outputs": [],
   "source": [
    "class_a_scores = [85, 90, 78, 92, 88]\n",
    "class_b_scores = [80, 76, 79, 85, 83]\n",
    "std_a=np.std(class_a_scores)\n",
    "std_b=np.std(class_b_scores)\n",
    "a_mean=np.mean(class_a_scores)\n",
    "b_mena=np.mean(class_b_scores)"
   ]
  },
  {
   "cell_type": "code",
   "execution_count": 13,
   "id": "f0e6cd67",
   "metadata": {},
   "outputs": [
    {
     "name": "stdout",
     "output_type": "stream",
     "text": [
      "i will accept null hypothesis\n"
     ]
    }
   ],
   "source": [
    "t_stats, p_value = stats.ttest_ind(class_a_scores,class_b_scores,equal_var=False)\n",
    "alpha=0.05\n",
    "if p_value < alpha:\n",
    "    print(\"i will reject the null hypothesus\")\n",
    "else :\n",
    "    print(\"i will accept null hypothesis\")"
   ]
  },
  {
   "cell_type": "code",
   "execution_count": 14,
   "id": "062cf1ca",
   "metadata": {},
   "outputs": [
    {
     "data": {
      "text/plain": [
       "np.float64(0.07852294645645674)"
      ]
     },
     "execution_count": 14,
     "metadata": {},
     "output_type": "execute_result"
    }
   ],
   "source": [
    "p_value\n"
   ]
  }
 ],
 "metadata": {
  "kernelspec": {
   "display_name": "Python 3",
   "language": "python",
   "name": "python3"
  },
  "language_info": {
   "codemirror_mode": {
    "name": "ipython",
    "version": 3
   },
   "file_extension": ".py",
   "mimetype": "text/x-python",
   "name": "python",
   "nbconvert_exporter": "python",
   "pygments_lexer": "ipython3",
   "version": "3.13.3"
  }
 },
 "nbformat": 4,
 "nbformat_minor": 5
}
